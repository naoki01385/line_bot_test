{
 "cells": [
  {
   "cell_type": "code",
   "execution_count": 1,
   "id": "2c169404-4308-4c23-9cff-3c60f0ea6662",
   "metadata": {},
   "outputs": [
    {
     "name": "stdout",
     "output_type": "stream",
     "text": [
      "Collecting line-bot-sdk\n",
      "  Downloading line_bot_sdk-1.20.0-py2.py3-none-any.whl (72 kB)\n",
      "\u001b[K     |████████████████████████████████| 72 kB 1.6 MB/s eta 0:00:011\n",
      "\u001b[?25hCollecting future\n",
      "  Downloading future-0.18.2.tar.gz (829 kB)\n",
      "\u001b[K     |████████████████████████████████| 829 kB 9.4 MB/s eta 0:00:01\n",
      "\u001b[?25hRequirement already satisfied: requests>=2.0 in /Library/Frameworks/Python.framework/Versions/3.9/lib/python3.9/site-packages (from line-bot-sdk) (2.26.0)\n",
      "Requirement already satisfied: urllib3<1.27,>=1.21.1 in /Library/Frameworks/Python.framework/Versions/3.9/lib/python3.9/site-packages (from requests>=2.0->line-bot-sdk) (1.26.6)\n",
      "Requirement already satisfied: charset-normalizer~=2.0.0 in /Library/Frameworks/Python.framework/Versions/3.9/lib/python3.9/site-packages (from requests>=2.0->line-bot-sdk) (2.0.5)\n",
      "Requirement already satisfied: idna<4,>=2.5 in /Library/Frameworks/Python.framework/Versions/3.9/lib/python3.9/site-packages (from requests>=2.0->line-bot-sdk) (3.2)\n",
      "Requirement already satisfied: certifi>=2017.4.17 in /Library/Frameworks/Python.framework/Versions/3.9/lib/python3.9/site-packages (from requests>=2.0->line-bot-sdk) (2021.5.30)\n",
      "Building wheels for collected packages: future\n",
      "  Building wheel for future (setup.py) ... \u001b[?25ldone\n",
      "\u001b[?25h  Created wheel for future: filename=future-0.18.2-py3-none-any.whl size=491070 sha256=35feba736909a17a1a9a5d4c03c98d4659cb9c88415509dc19857d48c94bec23\n",
      "  Stored in directory: /Users/naoki/Library/Caches/pip/wheels/2f/a0/d3/4030d9f80e6b3be787f19fc911b8e7aa462986a40ab1e4bb94\n",
      "Successfully built future\n",
      "Installing collected packages: future, line-bot-sdk\n",
      "Successfully installed future-0.18.2 line-bot-sdk-1.20.0\n"
     ]
    }
   ],
   "source": [
    "!pip install line-bot-sdk"
   ]
  },
  {
   "cell_type": "code",
   "execution_count": 2,
   "id": "0f790540-00b3-4cb5-a079-210552966c2b",
   "metadata": {},
   "outputs": [],
   "source": [
    "import json"
   ]
  },
  {
   "cell_type": "code",
   "execution_count": 12,
   "id": "2a5ab4a9-5a21-4dbf-81d3-5cebb1d248cd",
   "metadata": {},
   "outputs": [
    {
     "data": {
      "text/plain": [
       "{'CHANNEL_ACCESS_TOKEN': 'XXcFebQQMtzVY7VNsI5omhhmZ6RecRHT94ZHHm3+Q6nlo0/sUceNBqgz3RLgAwXa3HH9mr7j+Tu+xH5HU8BT3kNdXGvHTSmKQqhJrvbKeaDR6zOx0cJjdl15EFsF691QaC8oOQzHZOR0O3LHniVM2AdB04t89/1O/w1cDnyilFU=',\n",
       " 'USER_ID': 'Uaf2d5dbbe1f2d178a134ff8d6d354878'}"
      ]
     },
     "execution_count": 12,
     "metadata": {},
     "output_type": "execute_result"
    }
   ],
   "source": [
    "file=open('info.json','r')\n",
    "info=json.load(file)"
   ]
  },
  {
   "cell_type": "code",
   "execution_count": null,
   "id": "467f77d9-4fa9-45c2-81d2-c6645b687b92",
   "metadata": {},
   "outputs": [],
   "source": []
  },
  {
   "cell_type": "code",
   "execution_count": 10,
   "id": "8fc1016f-7847-4310-ae1f-e9a63b918e7f",
   "metadata": {},
   "outputs": [],
   "source": [
    "from linebot import LineBotApi\n",
    "from linebot.models import TextSendMessage"
   ]
  },
  {
   "cell_type": "code",
   "execution_count": 17,
   "id": "763c581d-8a3b-4007-a47d-0c62fead5262",
   "metadata": {},
   "outputs": [],
   "source": [
    "CHANNEL_ACCESS_TOKEN=info['CHANNEL_ACCESS_TOKEN']\n",
    "line_bot_api=LineBotApi(CHANNEL_ACCESS_TOKEN)"
   ]
  },
  {
   "cell_type": "code",
   "execution_count": 19,
   "id": "44e99a5b-ce0b-4aa5-9e07-c72b46f3e7c3",
   "metadata": {},
   "outputs": [],
   "source": [
    "def main():\n",
    "    USER_ID = info['USER_ID']\n",
    "    messages= TextSendMessage(text=\"おはよう〜 \\n 朝だよ、起きてね💔\")\n",
    "    line_bot_api.push_message(USER_ID, messages=messages)\n",
    "    \n",
    "if __name__ == \"__main__\":\n",
    "    main()"
   ]
  },
  {
   "cell_type": "code",
   "execution_count": null,
   "id": "f615f607-ab5b-431d-9ee5-36b62c43abae",
   "metadata": {},
   "outputs": [],
   "source": []
  }
 ],
 "metadata": {
  "kernelspec": {
   "display_name": "Python 3 (ipykernel)",
   "language": "python",
   "name": "python3"
  },
  "language_info": {
   "codemirror_mode": {
    "name": "ipython",
    "version": 3
   },
   "file_extension": ".py",
   "mimetype": "text/x-python",
   "name": "python",
   "nbconvert_exporter": "python",
   "pygments_lexer": "ipython3",
   "version": "3.9.7"
  }
 },
 "nbformat": 4,
 "nbformat_minor": 5
}
